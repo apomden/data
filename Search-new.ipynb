{
 "cells": [
  {
   "cell_type": "code",
   "execution_count": 7,
   "metadata": {},
   "outputs": [],
   "source": [
    "#insert json\n",
    "import json\n",
    "import requests\n",
    "import numpy as np\n",
    "import matplotlib.pyplot as plt\n",
    "from nltk.tokenize import TreebankWordTokenizer"
   ]
  },
  {
   "cell_type": "code",
   "execution_count": 8,
   "metadata": {},
   "outputs": [],
   "source": [
    "#load json data\n",
    "url = \"http://api.apomden.com/v2/facilities\"\n",
    "hospitals=requests.get(url).json()\n",
    "hospitals = hospitals[\"data\"]"
   ]
  },
  {
   "cell_type": "markdown",
   "metadata": {},
   "source": [
    "### Search Algorithm"
   ]
  },
  {
   "cell_type": "code",
   "execution_count": 47,
   "metadata": {},
   "outputs": [],
   "source": [
    "SEARCH_FIELDS = [\"name\", \"street\", \"city\", \"district\", \"regions\", \"services\"]\n",
    "\n",
    "def getTokens(sentence, tokenizer):\n",
    "    return tokenizer.tokenize(sentence)\n",
    "\n",
    "def extractJson(list_dicts, field_list):\n",
    "    \n",
    "    json_tokens = {field:[] for field in field_list}\n",
    "    \n",
    "    for item in list_dicts:\n",
    "        for field in SEARCH_FIELDS:\n",
    "            x = extract(item, field)\n",
    "            json_tokens[field].extend(x)\n",
    "    return json_tokens\n",
    "\n",
    "def extract(obj, key):\n",
    "    \n",
    "    tokens = []\n",
    "    \n",
    "    if isinstance(obj,dict):\n",
    "        for k,v in obj.items():\n",
    "            #print(k,v)\n",
    "            if k==key:\n",
    "               # print(k)\n",
    "                tokens.append(v)\n",
    "            elif isinstance(v, dict):\n",
    "#                 print(k)\n",
    "#                 print(v.keys())\n",
    "#                 print(\"    \")\n",
    "                if k in v.keys():\n",
    "                    print(\"yes\")\n",
    "                    extract(v, key)\n",
    "            elif isinstance(v,(dict,list)):\n",
    "                extract(v,key)\n",
    "                \n",
    "    elif isinstance(obj, list):\n",
    "        for item in obj:\n",
    "            extract(item,key)\n",
    "            \n",
    "    return tokens\n",
    "\n",
    "\n",
    "def vectorizeTokens(token_dict):\n",
    "    \n",
    "    \"\"\"\n",
    "    Returns a numpy matrix of vectorized tokens\n",
    "    \"\"\"\n",
    "    \n",
    "    pass\n",
    "\n",
    "\n",
    "def buildIndices(token_list):\n",
    "    \n",
    "    \"\"\"\n",
    "    Returns dictionaries of variable to idx and vice versa pairing\n",
    "    \"\"\"\n",
    "              \n",
    "    var_to_index = {}\n",
    "    index_to_var = {}\n",
    "\n",
    "    for idx, item in enumerate(token_list):\n",
    "        var_to_index[item] = idx\n",
    "        index_to_var[idx] = item\n",
    "\n",
    "    return var_to_index, index_to_var\n",
    "\n",
    "\n",
    "\n",
    "    "
   ]
  },
  {
   "cell_type": "code",
   "execution_count": null,
   "metadata": {},
   "outputs": [],
   "source": []
  },
  {
   "cell_type": "code",
   "execution_count": 48,
   "metadata": {},
   "outputs": [],
   "source": [
    "def main():\n",
    "    treebank = TreebankWordTokenizer()\n",
    "    tokens = extractJson(hospitals, SEARCH_FIELDS)\n",
    "    print(tokens)"
   ]
  },
  {
   "cell_type": "code",
   "execution_count": 49,
   "metadata": {},
   "outputs": [
    {
     "name": "stdout",
     "output_type": "stream",
     "text": [
      "{'name': ['Cocoa Clinic', 'Sam Hospital', \"Edgar's Hospital\", 'Osei', 'Nana K clinic', 'Mab clinic', 'osei', 'Ablekuma Clinic', 'Seed Clinic', 'Denver Clinic', 'Boateng', 'Frimpong Clinic', 'Lizzie', 'Test1', 'MyHospital'], 'street': [], 'city': [], 'district': [], 'regions': [], 'services': [[{'_id': '5d5b70925c0f901f2d91d18c', 'name': 'General Primary Care', 'description': '', 'createdAt': '2019-08-20T04:01:22.348Z', 'updatedAt': '2019-08-20T04:01:22.348Z'}, {'_id': '5d5b70925c0f901f2d91d18b', 'name': 'General Consultation', 'description': '', 'createdAt': '2019-08-20T04:01:22.348Z', 'updatedAt': '2019-08-20T04:01:22.348Z'}, {'_id': '5d5b70925c0f901f2d91d18a', 'name': 'ICU', 'description': '', 'createdAt': '2019-08-20T04:01:22.348Z', 'updatedAt': '2019-08-20T04:01:22.348Z'}], [{'_id': '5d5dd9255c0f901f2d91d271', 'name': 'General Primary Care', 'description': '', 'createdAt': '2019-08-21T23:52:05.706Z', 'updatedAt': '2019-08-21T23:52:05.706Z'}, {'_id': '5d5dd9255c0f901f2d91d270', 'name': 'General Consultation', 'description': '', 'createdAt': '2019-08-21T23:52:05.707Z', 'updatedAt': '2019-08-21T23:52:05.707Z'}, {'_id': '5d5dd9255c0f901f2d91d26f', 'name': 'ICU', 'description': '', 'createdAt': '2019-08-21T23:52:05.707Z', 'updatedAt': '2019-08-21T23:52:05.707Z'}], [{'_id': '5d5dd95e5c0f901f2d91d29f', 'name': 'General Primary Care', 'description': '', 'createdAt': '2019-08-21T23:53:02.215Z', 'updatedAt': '2019-08-21T23:53:02.215Z'}, {'_id': '5d5dd95e5c0f901f2d91d29e', 'name': 'General Consultation', 'description': '', 'createdAt': '2019-08-21T23:53:02.215Z', 'updatedAt': '2019-08-21T23:53:02.215Z'}, {'_id': '5d5dd95e5c0f901f2d91d29d', 'name': 'ICU', 'description': '', 'createdAt': '2019-08-21T23:53:02.215Z', 'updatedAt': '2019-08-21T23:53:02.215Z'}], [{'_id': '5d5dd9b85c0f901f2d91d2d5', 'name': 'General Primary Care', 'description': '', 'createdAt': '2019-08-21T23:54:32.411Z', 'updatedAt': '2019-08-21T23:54:32.411Z'}, {'_id': '5d5dd9b85c0f901f2d91d2d4', 'name': 'General Consultation', 'description': '', 'createdAt': '2019-08-21T23:54:32.411Z', 'updatedAt': '2019-08-21T23:54:32.411Z'}, {'_id': '5d5dd9b85c0f901f2d91d2d3', 'name': 'ICU', 'description': '', 'createdAt': '2019-08-21T23:54:32.411Z', 'updatedAt': '2019-08-21T23:54:32.411Z'}], [{'_id': '5d5fbc3e5c0f901f2d91d42b', 'name': 'General Primary Care', 'description': '', 'createdAt': '2019-08-23T10:13:18.410Z', 'updatedAt': '2019-08-23T10:13:18.410Z'}, {'_id': '5d5fbc3e5c0f901f2d91d42a', 'name': 'General Consultation', 'description': '', 'createdAt': '2019-08-23T10:13:18.410Z', 'updatedAt': '2019-08-23T10:13:18.410Z'}, {'_id': '5d5fbc3e5c0f901f2d91d429', 'name': 'ICU', 'description': '', 'createdAt': '2019-08-23T10:13:18.410Z', 'updatedAt': '2019-08-23T10:13:18.410Z'}], [{'_id': '5d71af105c0f901f2d91d52f', 'name': 'General Primary Care', 'description': '', 'createdAt': '2019-09-06T00:57:52.438Z', 'updatedAt': '2019-09-06T00:57:52.438Z'}, {'_id': '5d71af105c0f901f2d91d52e', 'name': 'General Consultation', 'description': '', 'createdAt': '2019-09-06T00:57:52.438Z', 'updatedAt': '2019-09-06T00:57:52.438Z'}, {'_id': '5d71af105c0f901f2d91d52d', 'name': 'ICU', 'description': '', 'createdAt': '2019-09-06T00:57:52.438Z', 'updatedAt': '2019-09-06T00:57:52.438Z'}], [{'_id': '5d729f4e5c0f901f2d91d5b3', 'name': 'General Primary Care', 'description': '', 'createdAt': '2019-09-06T18:02:54.282Z', 'updatedAt': '2019-09-06T18:02:54.282Z'}, {'_id': '5d729f4e5c0f901f2d91d5b2', 'name': 'General Consultation', 'description': '', 'createdAt': '2019-09-06T18:02:54.283Z', 'updatedAt': '2019-09-06T18:02:54.283Z'}, {'_id': '5d729f4e5c0f901f2d91d5b1', 'name': 'ICU', 'description': '', 'createdAt': '2019-09-06T18:02:54.283Z', 'updatedAt': '2019-09-06T18:02:54.283Z'}], [{'_id': '5d7317c45c0f901f2d91d603', 'name': 'General Primary Care', 'description': '', 'createdAt': '2019-09-07T02:36:52.287Z', 'updatedAt': '2019-09-07T02:36:52.287Z'}, {'_id': '5d7317c45c0f901f2d91d602', 'name': 'General Consultation', 'description': '', 'createdAt': '2019-09-07T02:36:52.287Z', 'updatedAt': '2019-09-07T02:36:52.287Z'}, {'_id': '5d7317c45c0f901f2d91d601', 'name': 'ICU', 'description': '', 'createdAt': '2019-09-07T02:36:52.287Z', 'updatedAt': '2019-09-07T02:36:52.287Z'}], [{'_id': '5d7466ab5c0f901f2d91d69f', 'name': 'General Primary Care', 'description': '', 'createdAt': '2019-09-08T02:25:47.709Z', 'updatedAt': '2019-09-08T02:25:47.709Z'}, {'_id': '5d7466ab5c0f901f2d91d69e', 'name': 'General Consultation', 'description': '', 'createdAt': '2019-09-08T02:25:47.709Z', 'updatedAt': '2019-09-08T02:25:47.709Z'}, {'_id': '5d7466ab5c0f901f2d91d69d', 'name': 'ICU', 'description': '', 'createdAt': '2019-09-08T02:25:47.709Z', 'updatedAt': '2019-09-08T02:25:47.709Z'}], [{'_id': '5d7d7f9a5c0f901f2d91d728', 'name': 'General Primary Care', 'description': '', 'createdAt': '2019-09-15T00:02:34.426Z', 'updatedAt': '2019-09-15T00:02:34.426Z'}, {'_id': '5d7d7f9a5c0f901f2d91d727', 'name': 'General Consultation', 'description': '', 'createdAt': '2019-09-15T00:02:34.426Z', 'updatedAt': '2019-09-15T00:02:34.426Z'}, {'_id': '5d7d7f9a5c0f901f2d91d726', 'name': 'ICU', 'description': '', 'createdAt': '2019-09-15T00:02:34.426Z', 'updatedAt': '2019-09-15T00:02:34.426Z'}], [{'_id': '5d7fc900a7aba05d792e181b', 'name': 'General Primary Care', 'description': '', 'createdAt': '2019-09-16T17:40:16.669Z', 'updatedAt': '2019-09-16T17:40:16.669Z'}, {'_id': '5d7fc900a7aba05d792e181a', 'name': 'General Consultation', 'description': '', 'createdAt': '2019-09-16T17:40:16.669Z', 'updatedAt': '2019-09-16T17:40:16.669Z'}, {'_id': '5d7fc900a7aba05d792e1819', 'name': 'ICU', 'description': '', 'createdAt': '2019-09-16T17:40:16.669Z', 'updatedAt': '2019-09-16T17:40:16.669Z'}], [{'_id': '5d84656ba7aba05d792e187c', 'name': 'General Primary Care', 'description': '', 'createdAt': '2019-09-20T05:36:43.814Z', 'updatedAt': '2019-09-20T05:36:43.814Z'}, {'_id': '5d84656ba7aba05d792e187b', 'name': 'General Consultation', 'description': '', 'createdAt': '2019-09-20T05:36:43.814Z', 'updatedAt': '2019-09-20T05:36:43.814Z'}, {'_id': '5d84656ba7aba05d792e187a', 'name': 'ICU', 'description': '', 'createdAt': '2019-09-20T05:36:43.815Z', 'updatedAt': '2019-09-20T05:36:43.815Z'}], [{'_id': '5d8466af510a2e644a11ac8e', 'name': 'General Primary Care', 'description': '', 'createdAt': '2019-09-20T05:42:07.955Z', 'updatedAt': '2019-09-20T05:42:07.955Z'}, {'_id': '5d8466af510a2e644a11ac8d', 'name': 'General Consultation', 'description': '', 'createdAt': '2019-09-20T05:42:07.955Z', 'updatedAt': '2019-09-20T05:42:07.955Z'}, {'_id': '5d8466af510a2e644a11ac8c', 'name': 'ICU', 'description': '', 'createdAt': '2019-09-20T05:42:07.955Z', 'updatedAt': '2019-09-20T05:42:07.955Z'}], [{'_id': '5d891a66a7aba05d792e1b6c', 'name': 'General Primary Care', 'description': '', 'createdAt': '2019-09-23T19:17:58.077Z', 'updatedAt': '2019-09-23T19:17:58.077Z'}, {'_id': '5d891a66a7aba05d792e1b6b', 'name': 'General Consultation', 'description': '', 'createdAt': '2019-09-23T19:17:58.077Z', 'updatedAt': '2019-09-23T19:17:58.077Z'}, {'_id': '5d891a66a7aba05d792e1b6a', 'name': 'ICU', 'description': '', 'createdAt': '2019-09-23T19:17:58.077Z', 'updatedAt': '2019-09-23T19:17:58.077Z'}], [{'_id': '5d8ad6db3f763603fef97478', 'name': 'General Primary Care', 'description': '', 'createdAt': '2019-09-25T02:54:19.310Z', 'updatedAt': '2019-09-25T02:54:19.310Z'}, {'_id': '5d8ad6db3f763603fef97477', 'name': 'General Consultation', 'description': '', 'createdAt': '2019-09-25T02:54:19.310Z', 'updatedAt': '2019-09-25T02:54:19.310Z'}, {'_id': '5d8ad6db3f763603fef97476', 'name': 'ICU', 'description': '', 'createdAt': '2019-09-25T02:54:19.310Z', 'updatedAt': '2019-09-25T02:54:19.310Z'}]]}\n"
     ]
    }
   ],
   "source": [
    "if __name__ == \"__main__\":\n",
    "    \n",
    "    main()"
   ]
  },
  {
   "cell_type": "code",
   "execution_count": null,
   "metadata": {},
   "outputs": [],
   "source": []
  }
 ],
 "metadata": {
  "kernelspec": {
   "display_name": "Python 3",
   "language": "python",
   "name": "python3"
  },
  "language_info": {
   "codemirror_mode": {
    "name": "ipython",
    "version": 3
   },
   "file_extension": ".py",
   "mimetype": "text/x-python",
   "name": "python",
   "nbconvert_exporter": "python",
   "pygments_lexer": "ipython3",
   "version": "3.6.4"
  }
 },
 "nbformat": 4,
 "nbformat_minor": 2
}
