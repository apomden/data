{
 "cells": [
  {
   "cell_type": "code",
   "execution_count": 1,
   "metadata": {},
   "outputs": [],
   "source": [
    "#insert json\n",
    "import json\n",
    "import requests\n",
    "import numpy as np\n",
    "import matplotlib.pyplot as plt\n",
    "from nltk.tokenize import TreebankWordTokenizer"
   ]
  },
  {
   "cell_type": "code",
   "execution_count": 95,
   "metadata": {},
   "outputs": [],
   "source": [
    "#load json data\n",
    "url = \"http://api.apomden.com/v2/facilities\"\n",
    "hospitals=requests.get(url).json()\n",
    "hospitals = hospitals[\"data\"]"
   ]
  },
  {
   "cell_type": "markdown",
   "metadata": {},
   "source": [
    "### Search Algorithm"
   ]
  },
  {
   "cell_type": "code",
   "execution_count": 132,
   "metadata": {},
   "outputs": [],
   "source": [
    "SEARCH_FIELDS = [\"name\", \"street\", \"city\", \"district\", \"regions\", \"services\"]\n",
    "\n",
    "def getTokens(sentence, tokenizer):\n",
    "    return tokenizer.tokenize(sentence)\n",
    "\n",
    "def extractJson(list_dicts, field_list):\n",
    "    \n",
    "    json_tokens = {field:[] for field in field_list}\n",
    "    \n",
    "    for item in list_dicts:\n",
    "        for field in SEARCH_FIELDS:\n",
    "            x = extract(item, field)\n",
    "            json_tokens[field].extend(x)\n",
    "    return json_tokens\n",
    "\n",
    "def extract(obj, key):\n",
    "    \n",
    "    tokens = []\n",
    "    if isinstance(obj,(str,bool)):\n",
    "        return [obj]\n",
    "    elif isinstance(obj,dict):\n",
    "        for k,v in obj.items():\n",
    "            if k==key:\n",
    "                tokens.append(v)\n",
    "            elif isinstance(v, dict):\n",
    "                if k in v.keys():\n",
    "                    tokens.extend(extract(v, key))\n",
    "            elif isinstance(v,(dict,list)):\n",
    "                tokens.extend(extract(v,key))\n",
    "                \n",
    "    elif isinstance(obj, list):\n",
    "        for item in obj:\n",
    "            tokens.extend(extract(item,key))\n",
    "            \n",
    "    return tokens\n",
    "\n",
    "\n",
    "def vectorizeTokens(token_dict):\n",
    "    \n",
    "    \"\"\"\n",
    "    Returns a numpy matrix of vectorized tokens\n",
    "    \"\"\"\n",
    "    \n",
    "    pass\n",
    "\n",
    "\n",
    "def buildIndices(token_list, key=None):\n",
    "    \n",
    "    \"\"\"\n",
    "    Returns dictionaries of variable to idx and vice versa pairing\n",
    "    \"\"\"\n",
    "              \n",
    "    var_to_index = {}\n",
    "    index_to_var = {}\n",
    "    \n",
    "    if key is not None:\n",
    "        if isinstance(token_list, list):\n",
    "            for item in token_list:\n",
    "                for idx, k in enumerate(item):\n",
    "                    print(k)\n",
    "                    if k == \"name\":\n",
    "                        var_to_index[token_list[k]] = idx\n",
    "                        index_to_var[idx] = token_list[k]\n",
    "        else:\n",
    "            for idx, k in enumerate(item):\n",
    "                print(k)\n",
    "                if k == \"name\":\n",
    "                    var_to_index[token_list[k]] = idx\n",
    "                    index_to_var[idx] = token_list[k]\n",
    "            \n",
    "    else:\n",
    "        for idx, item in enumerate(token_list):\n",
    "            var_to_index[item] = idx\n",
    "            index_to_var[idx] = item\n",
    "\n",
    "    return var_to_index, index_to_var\n",
    "   "
   ]
  },
  {
   "cell_type": "markdown",
   "metadata": {},
   "source": [
    "### Method 1"
   ]
  },
  {
   "cell_type": "code",
   "execution_count": 117,
   "metadata": {},
   "outputs": [],
   "source": [
    "def get_all_tokens(d):\n",
    "    if not(isinstance(d, list)) and not(isinstance(d, dict)):\n",
    "        return [d]\n",
    "    tokens = []\n",
    "    if isinstance(d, list):\n",
    "        for i in d:\n",
    "            tokens.extend(get_all_tokens(i))\n",
    "    elif isinstance(d, dict):\n",
    "        for k, v in d.items():\n",
    "            tokens.extend(get_all_tokens(v))\n",
    "    return tokens\n",
    "\n",
    "def extract2(d, key):\n",
    "    tokens = []\n",
    "    if isinstance(d, list):\n",
    "        for i in d:\n",
    "            tokens.extend(get_all_tokens(i))\n",
    "    elif isinstance(d, dict):\n",
    "        for k, v in d.items():\n",
    "            #if k == key:\n",
    "            #tokens.extend(get_all_tokens(v))\n",
    "            #else:\n",
    "            tokens.extend(extract2(v, key))\n",
    "    return tokens\n",
    "            \n"
   ]
  },
  {
   "cell_type": "code",
   "execution_count": 118,
   "metadata": {},
   "outputs": [],
   "source": [
    "def getDocuments(list_dicts):\n",
    "    \n",
    "    def extractDocs(obj,key):\n",
    "        if isinstance(obj,str):\n",
    "            return [obj]\n",
    "        elif isinstance(obj,(dict,list)):\n",
    "            x = extract2(obj,key)\n",
    "            return x\n",
    "\n",
    "    docs = {} \n",
    "    for idx,doc in enumerate(list_dicts):\n",
    "        #print(doc)\n",
    "        d = []\n",
    "        for k,v in doc.items():\n",
    "            if not isinstance(v,(dict,list)):\n",
    "                d.append(v)\n",
    "            else:\n",
    "                val = extractDocs(v,k)\n",
    "                d.extend(val)\n",
    "        docs[idx] = d\n",
    "    \n",
    "    return docs\n",
    "    "
   ]
  },
  {
   "cell_type": "code",
   "execution_count": 119,
   "metadata": {},
   "outputs": [],
   "source": [
    "def print_dict(d):\n",
    "    for k,v in d.items():\n",
    "        print(f\"------ {k} -----\")\n",
    "        if isinstance(v, list):\n",
    "            for i in v:\n",
    "                print(i)\n",
    "        else:\n",
    "            print(v)\n",
    "        print(\"\\n\")"
   ]
  },
  {
   "cell_type": "code",
   "execution_count": 130,
   "metadata": {},
   "outputs": [],
   "source": [
    "def main():\n",
    "    treebank = TreebankWordTokenizer()\n",
    "    #tokens = extractJson(hospitals, SEARCH_FIELDS)\n",
    "    #print(tokens)\n",
    "    #print_dict(tokens)\n",
    "    \n",
    "    docs = getDocuments(hospitals)\n",
    "    #print(docs)\n",
    "    var_idx, idx_var = buildIndices(hospitals, \"name\")\n",
    "    print(var_idx, idx_var)"
   ]
  },
  {
   "cell_type": "code",
   "execution_count": 133,
   "metadata": {},
   "outputs": [
    {
     "name": "stdout",
     "output_type": "stream",
     "text": [
      "type\n",
      "isVerified\n",
      "admins\n",
      "staff\n",
      "patients\n",
      "_id\n",
      "domain\n",
      "name\n"
     ]
    },
    {
     "ename": "TypeError",
     "evalue": "list indices must be integers or slices, not str",
     "output_type": "error",
     "traceback": [
      "\u001b[0;31m---------------------------------------------------------------------------\u001b[0m",
      "\u001b[0;31mTypeError\u001b[0m                                 Traceback (most recent call last)",
      "\u001b[0;32m<ipython-input-133-bef214619c63>\u001b[0m in \u001b[0;36m<module>\u001b[0;34m()\u001b[0m\n\u001b[1;32m      1\u001b[0m \u001b[0;32mif\u001b[0m \u001b[0m__name__\u001b[0m \u001b[0;34m==\u001b[0m \u001b[0;34m\"__main__\"\u001b[0m\u001b[0;34m:\u001b[0m\u001b[0;34m\u001b[0m\u001b[0m\n\u001b[1;32m      2\u001b[0m \u001b[0;34m\u001b[0m\u001b[0m\n\u001b[0;32m----> 3\u001b[0;31m     \u001b[0mmain\u001b[0m\u001b[0;34m(\u001b[0m\u001b[0;34m)\u001b[0m\u001b[0;34m\u001b[0m\u001b[0m\n\u001b[0m",
      "\u001b[0;32m<ipython-input-130-939a1ad465fd>\u001b[0m in \u001b[0;36mmain\u001b[0;34m()\u001b[0m\n\u001b[1;32m      7\u001b[0m     \u001b[0mdocs\u001b[0m \u001b[0;34m=\u001b[0m \u001b[0mgetDocuments\u001b[0m\u001b[0;34m(\u001b[0m\u001b[0mhospitals\u001b[0m\u001b[0;34m)\u001b[0m\u001b[0;34m\u001b[0m\u001b[0m\n\u001b[1;32m      8\u001b[0m     \u001b[0;31m#print(docs)\u001b[0m\u001b[0;34m\u001b[0m\u001b[0;34m\u001b[0m\u001b[0m\n\u001b[0;32m----> 9\u001b[0;31m     \u001b[0mvar_idx\u001b[0m\u001b[0;34m,\u001b[0m \u001b[0midx_var\u001b[0m \u001b[0;34m=\u001b[0m \u001b[0mbuildIndices\u001b[0m\u001b[0;34m(\u001b[0m\u001b[0mhospitals\u001b[0m\u001b[0;34m,\u001b[0m \u001b[0;34m\"name\"\u001b[0m\u001b[0;34m)\u001b[0m\u001b[0;34m\u001b[0m\u001b[0m\n\u001b[0m\u001b[1;32m     10\u001b[0m     \u001b[0mprint\u001b[0m\u001b[0;34m(\u001b[0m\u001b[0mvar_idx\u001b[0m\u001b[0;34m,\u001b[0m \u001b[0midx_var\u001b[0m\u001b[0;34m)\u001b[0m\u001b[0;34m\u001b[0m\u001b[0m\n",
      "\u001b[0;32m<ipython-input-132-3177026144f0>\u001b[0m in \u001b[0;36mbuildIndices\u001b[0;34m(token_list, key)\u001b[0m\n\u001b[1;32m     60\u001b[0m                     \u001b[0mprint\u001b[0m\u001b[0;34m(\u001b[0m\u001b[0mk\u001b[0m\u001b[0;34m)\u001b[0m\u001b[0;34m\u001b[0m\u001b[0m\n\u001b[1;32m     61\u001b[0m                     \u001b[0;32mif\u001b[0m \u001b[0mk\u001b[0m \u001b[0;34m==\u001b[0m \u001b[0;34m\"name\"\u001b[0m\u001b[0;34m:\u001b[0m\u001b[0;34m\u001b[0m\u001b[0m\n\u001b[0;32m---> 62\u001b[0;31m                         \u001b[0mvar_to_index\u001b[0m\u001b[0;34m[\u001b[0m\u001b[0mtoken_list\u001b[0m\u001b[0;34m[\u001b[0m\u001b[0mk\u001b[0m\u001b[0;34m]\u001b[0m\u001b[0;34m]\u001b[0m \u001b[0;34m=\u001b[0m \u001b[0midx\u001b[0m\u001b[0;34m\u001b[0m\u001b[0m\n\u001b[0m\u001b[1;32m     63\u001b[0m                         \u001b[0mindex_to_var\u001b[0m\u001b[0;34m[\u001b[0m\u001b[0midx\u001b[0m\u001b[0;34m]\u001b[0m \u001b[0;34m=\u001b[0m \u001b[0mtoken_list\u001b[0m\u001b[0;34m[\u001b[0m\u001b[0mk\u001b[0m\u001b[0;34m]\u001b[0m\u001b[0;34m\u001b[0m\u001b[0m\n\u001b[1;32m     64\u001b[0m         \u001b[0;32melse\u001b[0m\u001b[0;34m:\u001b[0m\u001b[0;34m\u001b[0m\u001b[0m\n",
      "\u001b[0;31mTypeError\u001b[0m: list indices must be integers or slices, not str"
     ]
    }
   ],
   "source": [
    "if __name__ == \"__main__\":\n",
    "    \n",
    "    main()"
   ]
  },
  {
   "cell_type": "code",
   "execution_count": 122,
   "metadata": {},
   "outputs": [
    {
     "name": "stdout",
     "output_type": "stream",
     "text": [
      "{'type': 'SECONDARY', 'isVerified': False, 'admins': ['5d5b70925c0f901f2d91d190'], 'staff': [], 'patients': [], '_id': '5d5b70925c0f901f2d91d16b', 'domain': 'cocoaclinic', 'name': 'Cocoa Clinic', 'address': {'_id': '5d5b70925c0f901f2d91d16c', 'street': '109 Summit Avenue', 'city': 'Ithaca', 'district': 'KA', 'region': 'NY', 'country': 'Ghana', 'createdAt': '2019-08-20T04:01:22.346Z', 'updatedAt': '2019-08-20T04:01:22.346Z'}, 'contact': {'otherPhoneNumbers': [], 'otherEmails': [], '_id': '5d5b70925c0f901f2d91d16d', 'primaryPhoneNumber': '8452701190', 'primaryEmail': 'samuel.opokuagyemang@gmail.com', 'secondaryPhoneNumber': None, 'secondaryEmail': 'samuel.opokuagyemang@gmail.com', 'createdAt': '2019-08-20T04:01:22.346Z', 'updatedAt': '2019-08-20T04:01:22.346Z'}, 'tags': [{'_id': '5d5b70925c0f901f2d91d16f', 'value': 'hospital', 'createdAt': '2019-08-20T04:01:22.346Z', 'updatedAt': '2019-08-20T04:01:22.346Z'}, {'_id': '5d5b70925c0f901f2d91d16e', 'value': 'medical facility', 'createdAt': '2019-08-20T04:01:22.346Z', 'updatedAt': '2019-08-20T04:01:22.346Z'}], 'departments': [{'rooms': [{'sex': 'MALE', 'beds': [{'isOccupied': True, 'lastUpdatedBy': [], 'lastUsedBy': [], 'tags': [], '_id': '5d5b70925c0f901f2d91d189', 'name': 'GW-1-B1', 'status': 'OCCUPIED', 'createdAt': '2019-08-20T04:01:22.347Z', 'updatedAt': '2019-09-26T19:00:51.229Z'}, {'isOccupied': True, 'lastUpdatedBy': [], 'lastUsedBy': [], 'tags': [], '_id': '5d5b70925c0f901f2d91d188', 'name': 'GW-1-B2', 'status': 'OCCUPIED', 'createdAt': '2019-08-20T04:01:22.347Z', 'updatedAt': '2019-08-20T04:02:00.601Z'}, {'isOccupied': False, 'lastUpdatedBy': [], 'lastUsedBy': [], 'tags': [], '_id': '5d5b70925c0f901f2d91d187', 'name': 'GW-1-B3', 'status': 'AVAILABLE', 'createdAt': '2019-08-20T04:01:22.347Z', 'updatedAt': '2019-08-20T04:01:22.347Z'}], '_id': '5d5b70925c0f901f2d91d186', 'name': 'General Ward - Room 1', 'createdAt': '2019-08-20T04:01:22.346Z', 'updatedAt': '2019-09-26T19:00:51.229Z'}, {'sex': 'FEMALE', 'beds': [{'isOccupied': False, 'lastUpdatedBy': [], 'lastUsedBy': [], 'tags': [], '_id': '5d5b70925c0f901f2d91d185', 'name': 'GW-2-B1', 'status': 'AVAILABLE', 'createdAt': '2019-08-20T04:01:22.347Z', 'updatedAt': '2019-08-20T04:01:22.347Z'}, {'isOccupied': True, 'lastUpdatedBy': [], 'lastUsedBy': [], 'tags': [], '_id': '5d5b70925c0f901f2d91d184', 'name': 'GW-2-B2', 'status': 'OCCUPIED', 'createdAt': '2019-08-20T04:01:22.347Z', 'updatedAt': '2019-08-20T21:11:43.120Z'}], '_id': '5d5b70925c0f901f2d91d183', 'name': 'General Ward - Room 2', 'createdAt': '2019-08-20T04:01:22.347Z', 'updatedAt': '2019-08-20T21:11:43.120Z'}, {'sex': 'UNISEX', 'beds': [{'isOccupied': True, 'lastUpdatedBy': [], 'lastUsedBy': [], 'tags': [], '_id': '5d5b70925c0f901f2d91d182', 'name': 'GW-3-B1', 'status': 'OCCUPIED', 'createdAt': '2019-08-20T04:01:22.347Z', 'updatedAt': '2019-08-20T21:12:00.138Z'}, {'isOccupied': False, 'lastUpdatedBy': [], 'lastUsedBy': [], 'tags': [], '_id': '5d5b70925c0f901f2d91d181', 'name': 'GW-3-B2', 'status': 'AVAILABLE', 'createdAt': '2019-08-20T04:01:22.347Z', 'updatedAt': '2019-08-20T04:01:22.347Z'}, {'isOccupied': True, 'lastUpdatedBy': [], 'lastUsedBy': [], 'tags': [], '_id': '5d5b70925c0f901f2d91d180', 'name': 'GW-3-B3', 'status': 'OCCUPIED', 'createdAt': '2019-08-20T04:01:22.347Z', 'updatedAt': '2019-08-20T21:11:56.924Z'}, {'isOccupied': False, 'lastUpdatedBy': [], 'lastUsedBy': [], 'tags': [], '_id': '5d5b70925c0f901f2d91d17f', 'name': 'GW-3-B4', 'status': 'AVAILABLE', 'createdAt': '2019-08-20T04:01:22.347Z', 'updatedAt': '2019-08-20T04:01:22.347Z'}], '_id': '5d5b70925c0f901f2d91d17e', 'name': 'General Ward - Room 3', 'createdAt': '2019-08-20T04:01:22.347Z', 'updatedAt': '2019-08-20T21:12:00.138Z'}], 'tags': [], '_id': '5d5b70925c0f901f2d91d17d', 'name': 'General Ward'}, {'rooms': [{'sex': 'MALE', 'beds': [{'isOccupied': True, 'lastUpdatedBy': [], 'lastUsedBy': [], 'tags': [], '_id': '5d5b70925c0f901f2d91d17c', 'name': 'ICU-1-B1', 'status': 'OCCUPIED', 'createdAt': '2019-08-20T04:01:22.347Z', 'updatedAt': '2019-08-20T06:18:57.300Z'}, {'isOccupied': False, 'lastUpdatedBy': [], 'lastUsedBy': [], 'tags': [], '_id': '5d5b70925c0f901f2d91d17b', 'name': 'ICU-1-B2', 'status': 'AVAILABLE', 'createdAt': '2019-08-20T04:01:22.347Z', 'updatedAt': '2019-08-20T13:33:41.206Z'}, {'isOccupied': False, 'lastUpdatedBy': [], 'lastUsedBy': [], 'tags': [], '_id': '5d5b70925c0f901f2d91d17a', 'name': 'ICU-1-B3', 'status': 'AVAILABLE', 'createdAt': '2019-08-20T04:01:22.348Z', 'updatedAt': '2019-08-20T04:01:22.348Z'}], '_id': '5d5b70925c0f901f2d91d179', 'name': 'ICU - Room 1', 'createdAt': '2019-08-20T04:01:22.347Z', 'updatedAt': '2019-08-20T13:33:41.206Z'}, {'sex': 'FEMALE', 'beds': [{'isOccupied': False, 'lastUpdatedBy': [], 'lastUsedBy': [], 'tags': [], '_id': '5d5b70925c0f901f2d91d178', 'name': 'ICU-2-B1', 'status': 'AVAILABLE', 'createdAt': '2019-08-20T04:01:22.348Z', 'updatedAt': '2019-08-20T04:01:22.348Z'}, {'isOccupied': True, 'lastUpdatedBy': [], 'lastUsedBy': [], 'tags': [], '_id': '5d5b70925c0f901f2d91d177', 'name': 'ICU-2-B2', 'status': 'OCCUPIED', 'createdAt': '2019-08-20T04:01:22.348Z', 'updatedAt': '2019-08-20T21:11:07.949Z'}], '_id': '5d5b70925c0f901f2d91d176', 'name': 'ICU - Room 2', 'createdAt': '2019-08-20T04:01:22.348Z', 'updatedAt': '2019-08-20T21:11:07.949Z'}, {'sex': 'UNISEX', 'beds': [{'isOccupied': False, 'lastUpdatedBy': [], 'lastUsedBy': [], 'tags': [], '_id': '5d5b70925c0f901f2d91d175', 'name': 'ICU-3-B1', 'status': 'AVAILABLE', 'createdAt': '2019-08-20T04:01:22.348Z', 'updatedAt': '2019-08-20T04:01:22.348Z'}, {'isOccupied': True, 'lastUpdatedBy': [], 'lastUsedBy': [], 'tags': [], '_id': '5d5b70925c0f901f2d91d174', 'name': 'ICU-3-B2', 'status': 'OCCUPIED', 'createdAt': '2019-08-20T04:01:22.348Z', 'updatedAt': '2019-08-20T21:11:17.948Z'}, {'isOccupied': True, 'lastUpdatedBy': [], 'lastUsedBy': [], 'tags': [], '_id': '5d5b70925c0f901f2d91d173', 'name': 'ICU-3-B3', 'status': 'OCCUPIED', 'createdAt': '2019-08-20T04:01:22.348Z', 'updatedAt': '2019-08-23T21:35:24.446Z'}, {'isOccupied': True, 'lastUpdatedBy': [], 'lastUsedBy': [], 'tags': [], '_id': '5d5b70925c0f901f2d91d172', 'name': 'ICU-4-B4', 'status': 'OCCUPIED', 'createdAt': '2019-08-20T04:01:22.348Z', 'updatedAt': '2019-08-23T21:35:29.719Z'}], '_id': '5d5b70925c0f901f2d91d171', 'name': 'ICU - Room 3', 'createdAt': '2019-08-20T04:01:22.348Z', 'updatedAt': '2019-08-23T21:35:29.719Z'}], 'tags': [], '_id': '5d5b70925c0f901f2d91d170', 'name': 'Intensive Care Unit (ICU)'}], 'services': [{'_id': '5d5b70925c0f901f2d91d18c', 'name': 'General Primary Care', 'description': '', 'createdAt': '2019-08-20T04:01:22.348Z', 'updatedAt': '2019-08-20T04:01:22.348Z'}, {'_id': '5d5b70925c0f901f2d91d18b', 'name': 'General Consultation', 'description': '', 'createdAt': '2019-08-20T04:01:22.348Z', 'updatedAt': '2019-08-20T04:01:22.348Z'}, {'_id': '5d5b70925c0f901f2d91d18a', 'name': 'ICU', 'description': '', 'createdAt': '2019-08-20T04:01:22.348Z', 'updatedAt': '2019-08-20T04:01:22.348Z'}], 'announcements': [], 'createdAt': '2019-08-20T04:01:22.349Z', 'updatedAt': '2019-09-27T16:18:00.341Z', '__v': 1}\n"
     ]
    }
   ],
   "source": [
    "print(hospitals)"
   ]
  },
  {
   "cell_type": "code",
   "execution_count": null,
   "metadata": {},
   "outputs": [],
   "source": []
  }
 ],
 "metadata": {
  "kernelspec": {
   "display_name": "Python 3",
   "language": "python",
   "name": "python3"
  },
  "language_info": {
   "codemirror_mode": {
    "name": "ipython",
    "version": 3
   },
   "file_extension": ".py",
   "mimetype": "text/x-python",
   "name": "python",
   "nbconvert_exporter": "python",
   "pygments_lexer": "ipython3",
   "version": "3.6.4"
  }
 },
 "nbformat": 4,
 "nbformat_minor": 2
}
